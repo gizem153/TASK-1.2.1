{
  "nbformat": 4,
  "nbformat_minor": 0,
  "metadata": {
    "colab": {
      "provenance": []
    },
    "kernelspec": {
      "name": "python3",
      "display_name": "Python 3"
    },
    "language_info": {
      "name": "python"
    }
  },
  "cells": [
    {
      "cell_type": "code",
      "execution_count": 10,
      "metadata": {
        "id": "yMsy8Nj7gj-d"
      },
      "outputs": [],
      "source": [
        "def is_prime (num):\n",
        " check=True\n",
        " i=2;\n",
        " while i*i<=num:\n",
        "     if(num%i==0):\n",
        "         check=False\n",
        "         break\n",
        "     i+=1\n",
        "\n",
        " if(check and num!=1):\n",
        "    return(str(num)+\" is a Prime Number\")\n",
        " else:\n",
        "     return(str(num)+\" is not a Prime Number\")\n",
        "\n",
        "\n"
      ]
    },
    {
      "cell_type": "code",
      "source": [
        "is_prime(2)"
      ],
      "metadata": {
        "colab": {
          "base_uri": "https://localhost:8080/",
          "height": 35
        },
        "id": "qWo1OonKpBd1",
        "outputId": "7fe92a08-eb6f-4063-e418-493af242bed0"
      },
      "execution_count": 11,
      "outputs": [
        {
          "output_type": "execute_result",
          "data": {
            "text/plain": [
              "'2 is a Prime Number'"
            ],
            "application/vnd.google.colaboratory.intrinsic+json": {
              "type": "string"
            }
          },
          "metadata": {},
          "execution_count": 11
        }
      ]
    },
    {
      "cell_type": "code",
      "source": [
        "is_prime(3)"
      ],
      "metadata": {
        "id": "gX9w7TodpC-a",
        "outputId": "4ac9ee88-2c6e-4d95-bb13-c836ddbbbb4a",
        "colab": {
          "base_uri": "https://localhost:8080/",
          "height": 35
        }
      },
      "execution_count": 12,
      "outputs": [
        {
          "output_type": "execute_result",
          "data": {
            "text/plain": [
              "'3 is a Prime Number'"
            ],
            "application/vnd.google.colaboratory.intrinsic+json": {
              "type": "string"
            }
          },
          "metadata": {},
          "execution_count": 12
        }
      ]
    },
    {
      "cell_type": "code",
      "source": [
        "is_prime(4)"
      ],
      "metadata": {
        "id": "eGkaLk8HpE8l",
        "outputId": "0060e75f-861a-4299-fa09-4c8148feafae",
        "colab": {
          "base_uri": "https://localhost:8080/",
          "height": 35
        }
      },
      "execution_count": 13,
      "outputs": [
        {
          "output_type": "execute_result",
          "data": {
            "text/plain": [
              "'4 is not a Prime Number'"
            ],
            "application/vnd.google.colaboratory.intrinsic+json": {
              "type": "string"
            }
          },
          "metadata": {},
          "execution_count": 13
        }
      ]
    }
  ]
}